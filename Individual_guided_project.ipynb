{
  "nbformat": 4,
  "nbformat_minor": 0,
  "metadata": {
    "colab": {
      "provenance": [],
      "authorship_tag": "ABX9TyPJshwwDMd/vu0UQKpXRGer",
      "include_colab_link": true
    },
    "kernelspec": {
      "name": "python3",
      "display_name": "Python 3"
    },
    "language_info": {
      "name": "python"
    }
  },
  "cells": [
    {
      "cell_type": "markdown",
      "metadata": {
        "id": "view-in-github",
        "colab_type": "text"
      },
      "source": [
        "<a href=\"https://colab.research.google.com/github/Nakkungu/QCC/blob/main/Individual_guided_project.ipynb\" target=\"_parent\"><img src=\"https://colab.research.google.com/assets/colab-badge.svg\" alt=\"Open In Colab\"/></a>"
      ]
    },
    {
      "cell_type": "markdown",
      "source": [
        "QUESTION 1: CREATE A DATAFRAME FROM THE LIST OF DICTIONARIES."
      ],
      "metadata": {
        "id": "YvhlbaNDquiS"
      }
    },
    {
      "cell_type": "code",
      "execution_count": null,
      "metadata": {
        "id": "oE7loxsaqi2S"
      },
      "outputs": [],
      "source": [
        "import pandas as pd"
      ]
    },
    {
      "cell_type": "code",
      "source": [
        "#list of dictionaries\n",
        "data = [\n",
        "    {\"product_id\": 23, \"name\": \"computer\", \"wholesale_price\": 500, \"retail_price\": 1000, \"sales\": 100},\n",
        "    {\"product_id\": 96, \"name\": \"Python Workout\", \"wholesale_price\": 35, \"retail_price\": 75, \"sales\": 1000},\n",
        "    {\"product_id\": 97, \"name\": \"Pandas Workout\", \"wholesale_price\": 35, \"retail_price\": 75, \"sales\": 500},\n",
        "    {\"product_id\": 15, \"name\": \"banana\", \"wholesale_price\": 0.5, \"retail_price\": 200, \"sales\": 200},\n",
        "    {\"product_id\": 87, \"name\": \"sandwich\", \"wholesale_price\": 3, \"retail_price\": 300, \"sales\": 300}\n",
        "]\n",
        "#create dataframe\n",
        "df = pd.DataFrame(data)\n",
        "\n",
        "print(df)"
      ],
      "metadata": {
        "colab": {
          "base_uri": "https://localhost:8080/"
        },
        "id": "WzQtk9CVqsKt",
        "outputId": "c218ad46-a23b-4fd9-d1b3-0aef666a40ab"
      },
      "execution_count": null,
      "outputs": [
        {
          "output_type": "stream",
          "name": "stdout",
          "text": [
            "   product_id            name  wholesale_price  retail_price  sales\n",
            "0          23        computer            500.0          1000    100\n",
            "1          96  Python Workout             35.0            75   1000\n",
            "2          97  Pandas Workout             35.0            75    500\n",
            "3          15          banana              0.5           200    200\n",
            "4          87        sandwich              3.0           300    300\n"
          ]
        }
      ]
    },
    {
      "cell_type": "markdown",
      "source": [
        "QUESTION 2: CALCULATE THE PROFIT FOR EACH PRODUCT"
      ],
      "metadata": {
        "id": "Pz8_cyA2rxh0"
      }
    },
    {
      "cell_type": "code",
      "source": [
        "# Calculate net revenue for each product\n",
        "df['net_revenue'] = (df['retail_price'] - df['wholesale_price']) * df['sales']\n",
        "# Print DataFrame with net revenue\n",
        "print(df)"
      ],
      "metadata": {
        "colab": {
          "base_uri": "https://localhost:8080/"
        },
        "id": "zuwXGCu7srW8",
        "outputId": "04dae41f-52a1-483a-c601-fc5c46fec0b7"
      },
      "execution_count": null,
      "outputs": [
        {
          "output_type": "stream",
          "name": "stdout",
          "text": [
            "   product_id            name  wholesale_price  retail_price  sales  \\\n",
            "0          23        computer            500.0          1000    100   \n",
            "1          96  Python Workout             35.0            75   1000   \n",
            "2          97  Pandas Workout             35.0            75    500   \n",
            "3          15          banana              0.5           200    200   \n",
            "4          87        sandwich              3.0           300    300   \n",
            "\n",
            "   net_revenue  \n",
            "0      50000.0  \n",
            "1      40000.0  \n",
            "2      20000.0  \n",
            "3      39900.0  \n",
            "4      89100.0  \n"
          ]
        }
      ]
    },
    {
      "cell_type": "markdown",
      "source": [
        "QUESTION 3 (a)"
      ],
      "metadata": {
        "id": "emHGX8X1Ixfm"
      }
    },
    {
      "cell_type": "code",
      "source": [
        "total_net_revenue = df['net_revenue'].sum()\n",
        "print(f\"The total revenue from all the products is: {total_net_revenue:,}\")"
      ],
      "metadata": {
        "colab": {
          "base_uri": "https://localhost:8080/"
        },
        "id": "j70d52nCI1be",
        "outputId": "0616f1f2-e19d-47ac-a690-2749141fad0f"
      },
      "execution_count": null,
      "outputs": [
        {
          "output_type": "stream",
          "name": "stdout",
          "text": [
            "The total revenue from all the products is: 239,000.0\n"
          ]
        }
      ]
    },
    {
      "cell_type": "markdown",
      "source": [
        "QUESTION 3(b)"
      ],
      "metadata": {
        "id": "Ie0HUqIhOCLt"
      }
    },
    {
      "cell_type": "code",
      "source": [
        "# Find products where retail price is more than twice the wholesale price\n",
        "df_high_margin = df[(df['retail_price']) > (2 * df['wholesale_price'])]\n",
        "\n",
        "# Print these products\n",
        "print(df_high_margin['name'])\n"
      ],
      "metadata": {
        "colab": {
          "base_uri": "https://localhost:8080/"
        },
        "id": "60TTqhA0OBds",
        "outputId": "15c4d75e-9866-4874-8752-c655b6cb48b4"
      },
      "execution_count": null,
      "outputs": [
        {
          "output_type": "stream",
          "name": "stdout",
          "text": [
            "1    Python Workout\n",
            "2    Pandas Workout\n",
            "3            banana\n",
            "4          sandwich\n",
            "Name: name, dtype: object\n"
          ]
        }
      ]
    },
    {
      "cell_type": "markdown",
      "source": [
        "QUESTION 3(c)"
      ],
      "metadata": {
        "id": "1PJV0CECQLhO"
      }
    },
    {
      "cell_type": "code",
      "source": [
        "# Define product categories\n",
        "product_categories = {\n",
        "    \"computer\": \"computers\",\n",
        "    \"Python Workout\": \"books\",\n",
        "    \"Pandas Workout\": \"books\",\n",
        "    \"banana\": \"food\",\n",
        "    \"sandwich\": \"food\"\n",
        "}\n",
        "\n",
        "# Add product categories to DataFrame\n",
        "df['category'] = df['name'].map(product_categories)\n",
        "\n",
        "# Calculate total revenue for each category\n",
        "total_revenue_by_category = df.groupby('category')['net_revenue'].sum()\n",
        "\n",
        "# Print total revenue for each category\n",
        "print(total_revenue_by_category)\n"
      ],
      "metadata": {
        "colab": {
          "base_uri": "https://localhost:8080/"
        },
        "id": "ydAE2tWWQOFy",
        "outputId": "58651eba-fd7a-4852-ce8f-a99aa0483df6"
      },
      "execution_count": null,
      "outputs": [
        {
          "output_type": "stream",
          "name": "stdout",
          "text": [
            "category\n",
            "books         60000.0\n",
            "computers     50000.0\n",
            "food         129000.0\n",
            "Name: net_revenue, dtype: float64\n"
          ]
        }
      ]
    },
    {
      "cell_type": "markdown",
      "source": [
        "QUESTION 3(d)"
      ],
      "metadata": {
        "id": "1xglwRz0R7Tp"
      }
    },
    {
      "cell_type": "code",
      "source": [
        "# Apply 30% discount to wholesale price\n",
        "df['wholesale_price_discounted'] = df['wholesale_price'] * 0.7\n",
        "\n",
        "# Calculate new net revenue with discounted wholesale price\n",
        "df['net_revenue_discounted'] = (df['retail_price'] - df['wholesale_price_discounted']) * df['sales']\n",
        "\n",
        "# Print DataFrame with new net revenue\n",
        "print(df)\n"
      ],
      "metadata": {
        "colab": {
          "base_uri": "https://localhost:8080/"
        },
        "id": "cnzz1PAMSAzt",
        "outputId": "039c0b15-e414-41e0-85a6-b29b31762f52"
      },
      "execution_count": null,
      "outputs": [
        {
          "output_type": "stream",
          "name": "stdout",
          "text": [
            "   product_id            name  wholesale_price  retail_price  sales  \\\n",
            "0          23        computer            500.0          1000    100   \n",
            "1          96  Python Workout             35.0            75   1000   \n",
            "2          97  Pandas Workout             35.0            75    500   \n",
            "3          15          banana              0.5           200    200   \n",
            "4          87        sandwich              3.0           300    300   \n",
            "\n",
            "   net_revenue   category  wholesale_price_discounted  net_revenue_discounted  \n",
            "0      50000.0  computers                      350.00                 65000.0  \n",
            "1      40000.0      books                       24.50                 50500.0  \n",
            "2      20000.0      books                       24.50                 25250.0  \n",
            "3      39900.0       food                        0.35                 39930.0  \n",
            "4      89100.0       food                        2.10                 89370.0  \n"
          ]
        }
      ]
    },
    {
      "cell_type": "markdown",
      "source": [
        "QUESTION 3(e)"
      ],
      "metadata": {
        "id": "6lpHNB7iTm4c"
      }
    },
    {
      "cell_type": "code",
      "source": [
        "# Calculate current income\n",
        "df['current_income'] = df['net_revenue']\n",
        "\n",
        "# Calculate new net revenue with sales tax\n",
        "for tax_rate in [15, 20, 25]:\n",
        "    tax_rate = tax_rate / 100\n",
        "    df[f'net_revenue_tax_{tax_rate*100}%'] = df['current_income'] * (1 - tax_rate)\n",
        "\n",
        "# Print DataFrame with new net revenue\n",
        "print(df)\n"
      ],
      "metadata": {
        "colab": {
          "base_uri": "https://localhost:8080/"
        },
        "id": "J4tsEypETprD",
        "outputId": "83418870-5bb1-4593-c96e-7b607c04c498"
      },
      "execution_count": null,
      "outputs": [
        {
          "output_type": "stream",
          "name": "stdout",
          "text": [
            "   product_id            name  wholesale_price  retail_price  sales  \\\n",
            "0          23        computer            500.0          1000    100   \n",
            "1          96  Python Workout             35.0            75   1000   \n",
            "2          97  Pandas Workout             35.0            75    500   \n",
            "3          15          banana              0.5           200    200   \n",
            "4          87        sandwich              3.0           300    300   \n",
            "\n",
            "   net_revenue   category  wholesale_price_discounted  net_revenue_discounted  \\\n",
            "0      50000.0  computers                      350.00                 65000.0   \n",
            "1      40000.0      books                       24.50                 50500.0   \n",
            "2      20000.0      books                       24.50                 25250.0   \n",
            "3      39900.0       food                        0.35                 39930.0   \n",
            "4      89100.0       food                        2.10                 89370.0   \n",
            "\n",
            "   current_income  net_revenue_tax_15.0%  net_revenue_tax_20.0%  \\\n",
            "0         50000.0                42500.0                40000.0   \n",
            "1         40000.0                34000.0                32000.0   \n",
            "2         20000.0                17000.0                16000.0   \n",
            "3         39900.0                33915.0                31920.0   \n",
            "4         89100.0                75735.0                71280.0   \n",
            "\n",
            "   net_revenue_tax_25.0%  \n",
            "0                37500.0  \n",
            "1                30000.0  \n",
            "2                15000.0  \n",
            "3                29925.0  \n",
            "4                66825.0  \n"
          ]
        }
      ]
    }
  ]
}