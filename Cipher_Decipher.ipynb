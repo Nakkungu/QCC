{
  "nbformat": 4,
  "nbformat_minor": 0,
  "metadata": {
    "colab": {
      "provenance": [],
      "authorship_tag": "ABX9TyMtPs9F2iQS63KmzRzmPWir",
      "include_colab_link": true
    },
    "kernelspec": {
      "name": "python3",
      "display_name": "Python 3"
    },
    "language_info": {
      "name": "python"
    }
  },
  "cells": [
    {
      "cell_type": "markdown",
      "metadata": {
        "id": "view-in-github",
        "colab_type": "text"
      },
      "source": [
        "<a href=\"https://colab.research.google.com/github/Nakkungu/QCC/blob/main/Cipher_Decipher.ipynb\" target=\"_parent\"><img src=\"https://colab.research.google.com/assets/colab-badge.svg\" alt=\"Open In Colab\"/></a>"
      ]
    },
    {
      "cell_type": "code",
      "execution_count": null,
      "metadata": {
        "id": "IDWk47s4Jbby"
      },
      "outputs": [],
      "source": []
    },
    {
      "cell_type": "code",
      "execution_count": 1,
      "metadata": {
        "colab": {
          "base_uri": "https://localhost:8080/"
        },
        "id": "NS9gb509DZ6Y",
        "outputId": "bfd273bb-613b-4994-ae24-91da2387ec4f"
      },
      "outputs": [
        {
          "output_type": "stream",
          "name": "stdout",
          "text": [
            "Insert your message here: THE QUICK BROWN FOX JUMPS OVER THE LAZY DOG\n",
            "Encrypted text: QEB NRFZH YOLTK CLU GRJMP LSBO QEB IXWV ALD\n",
            "Decrypted text: THE QUICK BROWN FOX JUMPS OVER THE LAZY DOG\n"
          ]
        }
      ],
      "source": [
        "def caesar_cipher(raw_text, key):\n",
        "    alphabet = \"ABCDEFGHIJKLMNOPQRSTUVWXYZ\"\n",
        "    shifted_alphabet = alphabet[26-key:]+alphabet[0:(26-key)]\n",
        "    cipher_text = \"\"\n",
        "    for i in range(len(raw_text)):\n",
        "        char = raw_text[i]\n",
        "        idx = alphabet.find(char.upper())\n",
        "        if idx == -1:\n",
        "            cipher_text = cipher_text + char\n",
        "        elif char.islower():\n",
        "            cipher_text = cipher_text + shifted_alphabet[idx].lower()\n",
        "        else:\n",
        "            cipher_text = cipher_text + shifted_alphabet[idx]\n",
        "    return cipher_text\n",
        "\n",
        "raw_text = input('Insert your message here: ')\n",
        "key = 3\n",
        "encrypted_text = caesar_cipher(raw_text, key)\n",
        "print(\"Encrypted text:\", encrypted_text)\n",
        "\n",
        "# Decrypting a message\n",
        "decrypted_text = caesar_cipher(encrypted_text, 26-key)\n",
        "print(\"Decrypted text:\", decrypted_text)"
      ]
    }
  ]
}